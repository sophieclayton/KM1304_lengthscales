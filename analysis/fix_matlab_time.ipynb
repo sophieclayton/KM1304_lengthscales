{
 "cells": [
  {
   "cell_type": "code",
   "execution_count": 1,
   "metadata": {
    "collapsed": false
   },
   "outputs": [],
   "source": [
    "% matplotlib inline\n",
    "\n",
    "import pandas as pd\n",
    "from datetime import datetime, timedelta\n",
    "import time\n",
    "import numpy as np\n",
    "import matplotlib.pyplot as plt"
   ]
  },
  {
   "cell_type": "code",
   "execution_count": 7,
   "metadata": {
    "collapsed": false
   },
   "outputs": [],
   "source": [
    "def mat_to_python_time(row):\n",
    "    matlab_datenum = row['Timestamp']\n",
    "    python_datetime = datetime.fromordinal(int(matlab_datenum)) + timedelta(days=matlab_datenum%1) - timedelta(days = 366)\n",
    "    return python_datetime\n",
    "\n",
    "def time_interp_chl(uway, sfl, var, newvar):\n",
    "    x = [time.mktime(datetime.strptime(sfl['file_time'][i],\"%Y-%m-%d %H:%M:%S\").timetuple()) for i in range(len(sfl))]\n",
    "    x = np.asarray(x)\n",
    "    xp = [time.mktime((uway['file_time'][i]).timetuple()) for i in range(len(uway))]\n",
    "    xp = np.asarray(xp)\n",
    "    fp = chl[var]\n",
    "    fp = pd.to_numeric(fp, errors = coerce)\n",
    "    \n",
    "    int_chl = np.interp(x, xp, fp)\n",
    "    sfl[newvar] = int_chl\n",
    "    return sfl"
   ]
  },
  {
   "cell_type": "code",
   "execution_count": 3,
   "metadata": {
    "collapsed": false
   },
   "outputs": [],
   "source": [
    "# import mega dataset\n",
    "filePath = '/Users/archie/Google Drive/seaflow_data/KM1_abun_sds_opp.csv'\n",
    "data = pd.read_csv(filePath, sep=',')\n",
    "\n",
    "# only keep KM1304 data\n",
    "data = data[(data['cruise']=='KiloMoana_1')]\n",
    "\n",
    "# import the underway chl data\n",
    "filePath = '/Users/archie/Google Drive/seaflow_data/KM1314/KM1314_O2Ar.csv'\n",
    "chl = pd.read_csv(filePath, sep=',')#, skiprows=1)\n"
   ]
  },
  {
   "cell_type": "code",
   "execution_count": 4,
   "metadata": {
    "collapsed": false
   },
   "outputs": [],
   "source": [
    "# convert matlab datetime to file_time\n",
    "chl['file_time'] = chl.apply(mat_to_python_time, axis=1)"
   ]
  },
  {
   "cell_type": "code",
   "execution_count": 8,
   "metadata": {
    "collapsed": false
   },
   "outputs": [],
   "source": [
    "# interpolate underway chlorophyll onto the sfl timepoints\n",
    "\n",
    "var = 'Airseaflux'\n",
    "newvar = 'O2Ar'\n",
    "\n",
    "data = time_interp_chl(chl, data, var, newvar)\n",
    "\n",
    "clean = data[['cruise', 'file_time', newvar]]\n",
    "clean = clean.sort_values(by = ['cruise', 'file_time'],ascending=[1, 1])\n",
    "\n",
    "outfile = '/Users/archie/Google Drive/seaflow_data/KM1_O2Ar.csv'\n",
    "clean.to_csv(outfile, sep = ',', index = False)"
   ]
  },
  {
   "cell_type": "code",
   "execution_count": null,
   "metadata": {
    "collapsed": true
   },
   "outputs": [],
   "source": []
  }
 ],
 "metadata": {
  "kernelspec": {
   "display_name": "Python 2",
   "language": "python",
   "name": "python2"
  },
  "language_info": {
   "codemirror_mode": {
    "name": "ipython",
    "version": 2
   },
   "file_extension": ".py",
   "mimetype": "text/x-python",
   "name": "python",
   "nbconvert_exporter": "python",
   "pygments_lexer": "ipython2",
   "version": "2.7.11"
  }
 },
 "nbformat": 4,
 "nbformat_minor": 0
}
