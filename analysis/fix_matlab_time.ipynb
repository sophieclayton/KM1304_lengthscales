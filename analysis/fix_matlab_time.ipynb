{
 "cells": [
  {
   "cell_type": "code",
   "execution_count": 1,
   "metadata": {
    "collapsed": true
   },
   "outputs": [],
   "source": [
    "% matplotlib inline\n",
    "\n",
    "import pandas as pd\n",
    "from datetime import datetime, timedelta\n",
    "import numpy as np"
   ]
  },
  {
   "cell_type": "code",
   "execution_count": 2,
   "metadata": {
    "collapsed": true
   },
   "outputs": [],
   "source": [
    "def mat_to_python_time(row):\n",
    "    matlab_datenum = row['Time']\n",
    "    python_datetime = datetime.fromordinal(int(matlab_datenum)) + timedelta(days=matlab_datenum%1) - timedelta(days = 366)\n",
    "    return python_datetime\n",
    "\n",
    "def time_interp_chl(uway, sfl):\n",
    "    x = sfl['file_time']\n",
    "    xp = uway['file_time']\n",
    "    yp = uway['Chl']\n",
    "    \n",
    "    sfl['chl'] = np.interp(x, xp, fp, left=None, right=None, period=None)[source]\n",
    "    \n",
    "    return sfl"
   ]
  },
  {
   "cell_type": "code",
   "execution_count": 3,
   "metadata": {
    "collapsed": false
   },
   "outputs": [
    {
     "name": "stdout",
     "output_type": "stream",
     "text": [
      "Index([u'Time', u'Lat', u'Lon', u'Raw counts', u'Chl (ug/l)'], dtype='object')\n"
     ]
    }
   ],
   "source": [
    "# import mega dataset\n",
    "filePath = '/Users/archie/Google Drive/seaflow_data/KM1_abun_sds_opp.csv'\n",
    "data = pd.read_csv(filePath, sep=',')\n",
    "\n",
    "# only keep KM1304 data\n",
    "data = data[(data['cruise']=='KiloMoana_1')]\n",
    "\n",
    "# import the underway chl data\n",
    "filePath = '/Users/archie/Google Drive/seaflow_data/KM1314/KM_uway_Chl.csv'\n",
    "chl = pd.read_csv(filePath, sep=',', skiprows=1)\n",
    "print chl.columns\n"
   ]
  },
  {
   "cell_type": "code",
   "execution_count": 4,
   "metadata": {
    "collapsed": false
   },
   "outputs": [
    {
     "name": "stdout",
     "output_type": "stream",
     "text": [
      "0       2013-08-08 17:52:30.028804\n",
      "1       2013-08-08 17:53:29.990397\n",
      "2       2013-08-08 17:54:30.038402\n",
      "3       2013-08-08 17:55:29.999996\n",
      "4       2013-08-08 17:56:29.961600\n",
      "5       2013-08-08 17:57:30.009605\n",
      "6       2013-08-08 17:58:29.971198\n",
      "7       2013-08-08 17:59:30.019193\n",
      "8       2013-08-08 18:00:29.980807\n",
      "9       2013-08-08 18:01:30.028802\n",
      "10      2013-08-08 18:02:29.990395\n",
      "11      2013-08-08 18:03:30.038400\n",
      "12      2013-08-08 18:04:30.000004\n",
      "13      2013-08-08 18:05:29.961598\n",
      "14      2013-08-08 18:06:30.009603\n",
      "15      2013-08-08 18:07:29.971196\n",
      "16      2013-08-08 18:08:30.019201\n",
      "17      2013-08-08 18:09:29.980805\n",
      "18      2013-08-08 18:10:30.028800\n",
      "19      2013-08-08 18:11:29.990393\n",
      "20      2013-08-08 18:12:30.038408\n",
      "21      2013-08-08 18:13:30.000002\n",
      "22      2013-08-08 18:14:29.961596\n",
      "23      2013-08-08 18:15:30.009601\n",
      "24      2013-08-08 18:16:29.971194\n",
      "25      2013-08-08 18:17:30.019199\n",
      "26      2013-08-08 18:18:29.980803\n",
      "27      2013-08-08 18:19:30.028798\n",
      "28      2013-08-08 18:20:29.990401\n",
      "29      2013-08-08 18:21:30.038406\n",
      "                   ...            \n",
      "40150   2013-09-05 15:02:29.990395\n",
      "40151   2013-09-05 15:03:30.038400\n",
      "40152   2013-09-05 15:04:30.000004\n",
      "40153   2013-09-05 15:05:29.961598\n",
      "40154   2013-09-05 15:06:30.009603\n",
      "40155   2013-09-05 15:07:29.971196\n",
      "40156   2013-09-05 15:08:30.019201\n",
      "40157   2013-09-05 15:09:29.980805\n",
      "40158   2013-09-05 15:10:30.028800\n",
      "40159   2013-09-05 15:11:29.990393\n",
      "40160   2013-09-05 15:12:30.038408\n",
      "40161   2013-09-05 15:13:30.000002\n",
      "40162   2013-09-05 15:14:29.961596\n",
      "40163   2013-09-05 15:15:30.009601\n",
      "40164   2013-09-05 15:16:29.971194\n",
      "40165   2013-09-05 15:17:30.019199\n",
      "40166   2013-09-05 15:18:29.980803\n",
      "40167   2013-09-05 15:19:30.028798\n",
      "40168   2013-09-05 15:20:29.990401\n",
      "40169   2013-09-05 15:21:30.038406\n",
      "40170   2013-09-05 15:22:30.000000\n",
      "40171   2013-09-05 15:23:29.961594\n",
      "40172   2013-09-05 15:24:30.009599\n",
      "40173   2013-09-05 15:25:29.971202\n",
      "40174   2013-09-05 15:26:30.019197\n",
      "40175   2013-09-05 15:27:29.980801\n",
      "40176   2013-09-05 15:28:30.028806\n",
      "40177   2013-09-05 15:29:29.990399\n",
      "40178   2013-09-05 15:30:30.038404\n",
      "40179   2013-09-05 15:31:29.999998\n",
      "Name: file_time, dtype: datetime64[ns]\n"
     ]
    }
   ],
   "source": [
    "# convert matlab datetime to file_time\n",
    "chl['file_time'] = chl.apply(mat_to_python_time, axis=1)\n",
    "\n",
    "print chl['file_time']"
   ]
  },
  {
   "cell_type": "code",
   "execution_count": null,
   "metadata": {
    "collapsed": true
   },
   "outputs": [],
   "source": [
    "# interpolate underway chlorophyll onto the sfl timepoints\n",
    "\n",
    "data = time_interp_chl(chl, data)"
   ]
  }
 ],
 "metadata": {
  "kernelspec": {
   "display_name": "Python 2",
   "language": "python",
   "name": "python2"
  },
  "language_info": {
   "codemirror_mode": {
    "name": "ipython",
    "version": 2
   },
   "file_extension": ".py",
   "mimetype": "text/x-python",
   "name": "python",
   "nbconvert_exporter": "python",
   "pygments_lexer": "ipython2",
   "version": "2.7.11"
  }
 },
 "nbformat": 4,
 "nbformat_minor": 0
}
